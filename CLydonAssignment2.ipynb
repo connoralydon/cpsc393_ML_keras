{
 "cells": [
  {
   "cell_type": "markdown",
   "metadata": {},
   "source": [
    "# Assignment 2\n",
    "\n",
    "1) Read chapters 2-4 in your textbook and review the coding examples we went over in class\n",
    "\n",
    "2) Review the Keras documentation for things like the Layer types and Optimizer types to better familiarize yourself\n",
    "\n",
    "3) Redo the coding examples and do the \"Further experiments\" in chapter 3 of your book with datasets you find interesting and may want to use for further assignments and projects\n",
    "\n",
    "4) Provide a brief write up of the experiment and analysis."
   ]
  },
  {
   "cell_type": "markdown",
   "metadata": {},
   "source": [
    "# **table of contents**\n",
    "\n",
    "1. import libraries\n",
    "2. data prep\n",
    "    1. reading data\n",
    "    2. finding summary data\n",
    "    3. dummyizing data\n",
    "    4. creating predictor & outcome attribute lists\n",
    "    5. transforming data into numpy arrays\n",
    "    6. creating training and testing data\n",
    "    7. standardizing the data (z-scoring)\n",
    "3. modeling\n",
    "    1. initial model\n",
    "        1. building layers\n",
    "        2. fitting model on training data\n",
    "        3. predicting with test data\n",
    "    2. further experiments\n",
    "        1. model using one hiddden layer \n",
    "        2. model using more hidden units \n",
    "        3. model using mae loss\n",
    "        4. model using tanh activation\n",
    "    3. kfold optimization\n",
    "        1. build model function definition\n",
    "        2. defining k-fold variables\n",
    "        3. k-fold loop\n",
    "        4. plotting k-fold results\n",
    "        5. building model from validation\n"
   ]
  },
  {
   "cell_type": "markdown",
   "metadata": {},
   "source": [
    "---\n",
    "## 1 import libraries"
   ]
  },
  {
   "cell_type": "code",
   "execution_count": 1,
   "metadata": {},
   "outputs": [
    {
     "name": "stderr",
     "output_type": "stream",
     "text": [
      "Using TensorFlow backend.\n"
     ]
    }
   ],
   "source": [
    "# data prep\n",
    "from sklearn.preprocessing import StandardScaler, MinMaxScaler\n",
    "from sklearn.model_selection import train_test_split\n",
    "\n",
    "import numpy as np\n",
    "import pandas as pd\n",
    "\n",
    "# keras imports\n",
    "from keras import models\n",
    "from keras import layers\n",
    "from keras import optimizers\n",
    "\n",
    "# random seed for pseudo-random operations\n",
    "random_seed = 100"
   ]
  },
  {
   "cell_type": "markdown",
   "metadata": {},
   "source": [
    "---\n",
    "## 2 data prep"
   ]
  },
  {
   "cell_type": "markdown",
   "metadata": {},
   "source": [
    "#### *2.1 reading dataset*"
   ]
  },
  {
   "cell_type": "code",
   "execution_count": 2,
   "metadata": {},
   "outputs": [],
   "source": [
    "math_data = pd.read_csv(\"https://raw.githubusercontent.com/connoralydon/datasets/main/student-math.csv\", sep=\";\")"
   ]
  },
  {
   "cell_type": "markdown",
   "metadata": {},
   "source": [
    "**data can be found [here](http://archive.ics.uci.edu/ml/datasets/Student+Performance)**\n",
    "\n",
    "<p>\n",
    "    <br>Attributes for both student-mat.csv (Math course) and student-por.csv (Portuguese language course) datasets: \n",
    "    <br>1 school - student's school (binary: 'GP' - Gabriel Pereira or 'MS' - Mousinho da Silveira) \n",
    "    <br>2 sex - student's sex (binary: 'F' - female or 'M' - male) \n",
    "    <br>3 age - student's age (numeric: from 15 to 22) \n",
    "    <br>4 address - student's home address type (binary: 'U' - urban or 'R' - rural) \n",
    "    <br>5 famsize - family size (binary: 'LE3' - less or equal to 3 or 'GT3' - greater than 3) \n",
    "    <br>6 Pstatus - parent's cohabitation status (binary: 'T' - living together or 'A' - apart) \n",
    "    <br>7 Medu - mother's education (numeric: 0 - none, 1 - primary education (4th grade), 2 â€“ 5th to 9th grade, 3 â€“ secondary education or 4 â€“ higher education) \n",
    "    <br>8 Fedu - father's education (numeric: 0 - none, 1 - primary education (4th grade), 2 â€“ 5th to 9th grade, 3 â€“ secondary education or 4 â€“ higher education) \n",
    "    <br>9 Mjob - mother's job (nominal: 'teacher', 'health' care related, civil 'services' (e.g. administrative or police), 'at_home' or 'other') \n",
    "    <br>10 Fjob - father's job (nominal: 'teacher', 'health' care related, civil 'services' (e.g. administrative or police), 'at_home' or 'other') \n",
    "    <br>11 reason - reason to choose this school (nominal: close to 'home', school 'reputation', 'course' preference or 'other') \n",
    "    <br>12 guardian - student's guardian (nominal: 'mother', 'father' or 'other') \n",
    "    <br>13 traveltime - home to school travel time (numeric: 1 - <15 min., 2 - 15 to 30 min., 3 - 30 min. to 1 hour, or 4 - >1 hour) \n",
    "    <br>14 studytime - weekly study time (numeric: 1 - <2 hours, 2 - 2 to 5 hours, 3 - 5 to 10 hours, or 4 - >10 hours) \n",
    "    <br>15 failures - number of past class failures (numeric: n if 1<=n<3, else 4) \n",
    "    <br>16 schoolsup - extra educational support (binary: yes or no) \n",
    "    <br>17 famsup - family educational support (binary: yes or no) \n",
    "    <br>18 paid - extra paid classes within the course subject (Math or Portuguese) (binary: yes or no) \n",
    "    <br>19 activities - extra-curricular activities (binary: yes or no) \n",
    "    <br>20 nursery - attended nursery school (binary: yes or no) \n",
    "    <br>21 higher - wants to take higher education (binary: yes or no) \n",
    "    <br>22 internet - Internet access at home (binary: yes or no) \n",
    "    <br>23 romantic - with a romantic relationship (binary: yes or no) \n",
    "    <br>24 famrel - quality of family relationships (numeric: from 1 - very bad to 5 - excellent) \n",
    "    <br>25 freetime - free time after school (numeric: from 1 - very low to 5 - very high) \n",
    "    <br>26 goout - going out with friends (numeric: from 1 - very low to 5 - very high) \n",
    "    <br>27 Dalc - workday alcohol consumption (numeric: from 1 - very low to 5 - very high) \n",
    "    <br>28 Walc - weekend alcohol consumption (numeric: from 1 - very low to 5 - very high) \n",
    "    <br>29 health - current health status (numeric: from 1 - very bad to 5 - very good) \n",
    "    <br>30 absences - number of school absences (numeric: from 0 to 93) \n",
    "    <br>\n",
    "    <br>these grades are related with the course subject, Math or Portuguese: \n",
    "    <br>31 G1 - first period grade (numeric: from 0 to 20) \n",
    "    <br>31 G2 - second period grade (numeric: from 0 to 20) \n",
    "    <br>32 G3 - final grade (numeric: from 0 to 20, output target)\n",
    "</p>"
   ]
  },
  {
   "cell_type": "markdown",
   "metadata": {},
   "source": [
    "#### *2.2 summary info about data*"
   ]
  },
  {
   "cell_type": "code",
   "execution_count": 3,
   "metadata": {},
   "outputs": [
    {
     "data": {
      "text/plain": [
       "<bound method NDFrame.head of     school sex  age address famsize Pstatus  Medu  Fedu      Mjob      Fjob  \\\n",
       "0       GP   F   18       U     GT3       A     4     4   at_home   teacher   \n",
       "1       GP   F   17       U     GT3       T     1     1   at_home     other   \n",
       "2       GP   F   15       U     LE3       T     1     1   at_home     other   \n",
       "3       GP   F   15       U     GT3       T     4     2    health  services   \n",
       "4       GP   F   16       U     GT3       T     3     3     other     other   \n",
       "..     ...  ..  ...     ...     ...     ...   ...   ...       ...       ...   \n",
       "390     MS   M   20       U     LE3       A     2     2  services  services   \n",
       "391     MS   M   17       U     LE3       T     3     1  services  services   \n",
       "392     MS   M   21       R     GT3       T     1     1     other     other   \n",
       "393     MS   M   18       R     LE3       T     3     2  services     other   \n",
       "394     MS   M   19       U     LE3       T     1     1     other   at_home   \n",
       "\n",
       "     ... famrel freetime  goout  Dalc  Walc health absences  G1  G2  G3  \n",
       "0    ...      4        3      4     1     1      3        6   5   6   6  \n",
       "1    ...      5        3      3     1     1      3        4   5   5   6  \n",
       "2    ...      4        3      2     2     3      3       10   7   8  10  \n",
       "3    ...      3        2      2     1     1      5        2  15  14  15  \n",
       "4    ...      4        3      2     1     2      5        4   6  10  10  \n",
       "..   ...    ...      ...    ...   ...   ...    ...      ...  ..  ..  ..  \n",
       "390  ...      5        5      4     4     5      4       11   9   9   9  \n",
       "391  ...      2        4      5     3     4      2        3  14  16  16  \n",
       "392  ...      5        5      3     3     3      3        3  10   8   7  \n",
       "393  ...      4        4      1     3     4      5        0  11  12  10  \n",
       "394  ...      3        2      3     3     3      5        5   8   9   9  \n",
       "\n",
       "[395 rows x 33 columns]>"
      ]
     },
     "execution_count": 3,
     "metadata": {},
     "output_type": "execute_result"
    }
   ],
   "source": [
    "math_data.head"
   ]
  },
  {
   "cell_type": "code",
   "execution_count": 4,
   "metadata": {},
   "outputs": [
    {
     "name": "stdout",
     "output_type": "stream",
     "text": [
      "<class 'pandas.core.frame.DataFrame'>\n",
      "RangeIndex: 395 entries, 0 to 394\n",
      "Data columns (total 33 columns):\n",
      " #   Column      Non-Null Count  Dtype \n",
      "---  ------      --------------  ----- \n",
      " 0   school      395 non-null    object\n",
      " 1   sex         395 non-null    object\n",
      " 2   age         395 non-null    int64 \n",
      " 3   address     395 non-null    object\n",
      " 4   famsize     395 non-null    object\n",
      " 5   Pstatus     395 non-null    object\n",
      " 6   Medu        395 non-null    int64 \n",
      " 7   Fedu        395 non-null    int64 \n",
      " 8   Mjob        395 non-null    object\n",
      " 9   Fjob        395 non-null    object\n",
      " 10  reason      395 non-null    object\n",
      " 11  guardian    395 non-null    object\n",
      " 12  traveltime  395 non-null    int64 \n",
      " 13  studytime   395 non-null    int64 \n",
      " 14  failures    395 non-null    int64 \n",
      " 15  schoolsup   395 non-null    object\n",
      " 16  famsup      395 non-null    object\n",
      " 17  paid        395 non-null    object\n",
      " 18  activities  395 non-null    object\n",
      " 19  nursery     395 non-null    object\n",
      " 20  higher      395 non-null    object\n",
      " 21  internet    395 non-null    object\n",
      " 22  romantic    395 non-null    object\n",
      " 23  famrel      395 non-null    int64 \n",
      " 24  freetime    395 non-null    int64 \n",
      " 25  goout       395 non-null    int64 \n",
      " 26  Dalc        395 non-null    int64 \n",
      " 27  Walc        395 non-null    int64 \n",
      " 28  health      395 non-null    int64 \n",
      " 29  absences    395 non-null    int64 \n",
      " 30  G1          395 non-null    int64 \n",
      " 31  G2          395 non-null    int64 \n",
      " 32  G3          395 non-null    int64 \n",
      "dtypes: int64(16), object(17)\n",
      "memory usage: 102.0+ KB\n"
     ]
    }
   ],
   "source": [
    "math_data.info()"
   ]
  },
  {
   "cell_type": "code",
   "execution_count": 5,
   "metadata": {},
   "outputs": [
    {
     "data": {
      "text/plain": [
       "school        object\n",
       "sex           object\n",
       "age            int64\n",
       "address       object\n",
       "famsize       object\n",
       "Pstatus       object\n",
       "Medu           int64\n",
       "Fedu           int64\n",
       "Mjob          object\n",
       "Fjob          object\n",
       "reason        object\n",
       "guardian      object\n",
       "traveltime     int64\n",
       "studytime      int64\n",
       "failures       int64\n",
       "schoolsup     object\n",
       "famsup        object\n",
       "paid          object\n",
       "activities    object\n",
       "nursery       object\n",
       "higher        object\n",
       "internet      object\n",
       "romantic      object\n",
       "famrel         int64\n",
       "freetime       int64\n",
       "goout          int64\n",
       "Dalc           int64\n",
       "Walc           int64\n",
       "health         int64\n",
       "absences       int64\n",
       "G1             int64\n",
       "G2             int64\n",
       "G3             int64\n",
       "dtype: object"
      ]
     },
     "execution_count": 5,
     "metadata": {},
     "output_type": "execute_result"
    }
   ],
   "source": [
    "math_data.dtypes"
   ]
  },
  {
   "cell_type": "code",
   "execution_count": 6,
   "metadata": {},
   "outputs": [
    {
     "data": {
      "text/plain": [
       "Index(['school', 'sex', 'age', 'address', 'famsize', 'Pstatus', 'Medu', 'Fedu',\n",
       "       'Mjob', 'Fjob', 'reason', 'guardian', 'traveltime', 'studytime',\n",
       "       'failures', 'schoolsup', 'famsup', 'paid', 'activities', 'nursery',\n",
       "       'higher', 'internet', 'romantic', 'famrel', 'freetime', 'goout', 'Dalc',\n",
       "       'Walc', 'health', 'absences', 'G1', 'G2', 'G3'],\n",
       "      dtype='object')"
      ]
     },
     "execution_count": 6,
     "metadata": {},
     "output_type": "execute_result"
    }
   ],
   "source": [
    "math_data.columns"
   ]
  },
  {
   "cell_type": "code",
   "execution_count": 7,
   "metadata": {},
   "outputs": [
    {
     "data": {
      "text/plain": [
       "(395, 33)"
      ]
     },
     "execution_count": 7,
     "metadata": {},
     "output_type": "execute_result"
    }
   ],
   "source": [
    "math_data.shape"
   ]
  },
  {
   "cell_type": "code",
   "execution_count": 8,
   "metadata": {},
   "outputs": [
    {
     "name": "stdout",
     "output_type": "stream",
     "text": [
      "First test\n",
      "range of 0 to 19\n",
      "\n",
      "Second test\n",
      "range of 3 to 19\n",
      "\n",
      "Final test\n",
      "range of 0 to 20\n",
      "\n"
     ]
    }
   ],
   "source": [
    "# observe the different values used for species - 2 different values: 0, 1\n",
    "def print_range(data):\n",
    "    print(f\"range of {data.min()} to {data.max()}\\n\")\n",
    "\n",
    "print(\"First test\")\n",
    "print_range(math_data[\"G2\"])\n",
    "\n",
    "print(\"Second test\")\n",
    "print_range(math_data[\"G1\"])\n",
    "\n",
    "print(\"Final test\")\n",
    "print_range(math_data[\"G3\"])"
   ]
  },
  {
   "cell_type": "code",
   "execution_count": 9,
   "metadata": {},
   "outputs": [
    {
     "name": "stdout",
     "output_type": "stream",
     "text": [
      "total null values\n"
     ]
    },
    {
     "data": {
      "text/plain": [
       "0"
      ]
     },
     "execution_count": 9,
     "metadata": {},
     "output_type": "execute_result"
    }
   ],
   "source": [
    "print(\"total null values\")\n",
    "math_data.isnull().sum(axis=0).sum()"
   ]
  },
  {
   "cell_type": "code",
   "execution_count": 10,
   "metadata": {},
   "outputs": [
    {
     "name": "stdout",
     "output_type": "stream",
     "text": [
      "num duplicates\n"
     ]
    },
    {
     "data": {
      "text/plain": [
       "0"
      ]
     },
     "execution_count": 10,
     "metadata": {},
     "output_type": "execute_result"
    }
   ],
   "source": [
    "print(\"num duplicates\")\n",
    "math_data.duplicated().sum(axis=0)"
   ]
  },
  {
   "cell_type": "markdown",
   "metadata": {},
   "source": [
    "#### *2.3 dummyizing data*"
   ]
  },
  {
   "cell_type": "code",
   "execution_count": 11,
   "metadata": {},
   "outputs": [],
   "source": [
    "categorical_cols = {}\n",
    "\n",
    "for col in math_data.columns:\n",
    "    if(math_data[col].dtype == \"object\"):\n",
    "        categorical_cols[col] = list(math_data[col].unique())\n",
    "\n",
    "numerical_cols = list(set(math_data.columns) - set(categorical_cols.keys())) # set difference\n",
    "\n",
    "math_data_dummy = pd.get_dummies(math_data, columns = categorical_cols.keys())"
   ]
  },
  {
   "cell_type": "markdown",
   "metadata": {},
   "source": [
    "#### *2.4 model variables*\n",
    "removing g1, g2, g3 because they would be highly autocorrelary. someone who does good on one test is likely t odo good on another."
   ]
  },
  {
   "cell_type": "code",
   "execution_count": 12,
   "metadata": {},
   "outputs": [],
   "source": [
    "predictors = list(math_data_dummy.columns)\n",
    "predictors.remove(\"G1\") # first exam\n",
    "predictors.remove(\"G2\") # second exam\n",
    "predictors.remove(\"G3\") # third exam\n",
    "\n",
    "outcome = \"G3\""
   ]
  },
  {
   "cell_type": "markdown",
   "metadata": {},
   "source": [
    "#### *2.5 transforming data into numpy arrays*\n",
    "this is because keras won't take pandas dataframes"
   ]
  },
  {
   "cell_type": "code",
   "execution_count": 13,
   "metadata": {},
   "outputs": [],
   "source": [
    "X = np.array(math_data_dummy[predictors])\n",
    "y = np.array(math_data_dummy[outcome])\n"
   ]
  },
  {
   "cell_type": "markdown",
   "metadata": {},
   "source": [
    "#### *2.6 creating training and testing data*"
   ]
  },
  {
   "cell_type": "code",
   "execution_count": 14,
   "metadata": {},
   "outputs": [],
   "source": [
    "\n",
    "X_train, X_test, y_train, y_test = train_test_split(X, y, test_size=0.20, shuffle=True, random_state=random_seed)"
   ]
  },
  {
   "cell_type": "markdown",
   "metadata": {},
   "source": [
    "#### *2.7 standardizing the data (z-scoring)*\n",
    "to avoid wildy wifferent values in the model"
   ]
  },
  {
   "cell_type": "code",
   "execution_count": 15,
   "metadata": {},
   "outputs": [],
   "source": [
    "z = StandardScaler() # standard scaling object\n",
    "# z = MinMaxScaler() # alternative min max scaler so all values should lie between 0-1 for training and about that for testing\n",
    "\n",
    "# fitting scaler object to training data then outputting it\n",
    "X_train = z.fit_transform(X_train)\n",
    "# fit the testing data on the distributions found in the training data\n",
    "X_test = z.transform(X_test)\n"
   ]
  },
  {
   "cell_type": "markdown",
   "metadata": {},
   "source": [
    "---\n",
    "## 3 modeling"
   ]
  },
  {
   "cell_type": "markdown",
   "metadata": {},
   "source": [
    "#### *3.1 building initial model*"
   ]
  },
  {
   "cell_type": "code",
   "execution_count": 16,
   "metadata": {},
   "outputs": [
    {
     "name": "stderr",
     "output_type": "stream",
     "text": [
      "2022-03-02 00:32:31.494001: I tensorflow/core/platform/cpu_feature_guard.cc:145] This TensorFlow binary is optimized with Intel(R) MKL-DNN to use the following CPU instructions in performance critical operations:  SSE4.1 SSE4.2\n",
      "To enable them in non-MKL-DNN operations, rebuild TensorFlow with the appropriate compiler flags.\n",
      "2022-03-02 00:32:31.495570: I tensorflow/core/common_runtime/process_util.cc:115] Creating new thread pool with default inter op setting: 8. Tune using inter_op_parallelism_threads for best performance.\n"
     ]
    }
   ],
   "source": [
    "model = models.Sequential()\n",
    "model.add(layers.Dense(32, activation='relu', input_shape=(X_train.shape[1],)))\n",
    "model.add(layers.Dropout(0.3, seed=random_seed)) # adding dropout layers to help with overfitting\n",
    "model.add(layers.Dense(16, activation='relu'))\n",
    "model.add(layers.Dense(1)) # adding this layer because it is a regression problem\n"
   ]
  },
  {
   "cell_type": "markdown",
   "metadata": {},
   "source": [
    "##### *3.1.1 compiling model loss*"
   ]
  },
  {
   "cell_type": "code",
   "execution_count": 17,
   "metadata": {},
   "outputs": [],
   "source": [
    "\n",
    "model.compile(optimizer='rmsprop', \n",
    "              loss='mse', \n",
    "              metrics=['mae'])\n"
   ]
  },
  {
   "cell_type": "markdown",
   "metadata": {},
   "source": [
    "##### *3.1.2 fitting model on training data*"
   ]
  },
  {
   "cell_type": "code",
   "execution_count": 18,
   "metadata": {},
   "outputs": [
    {
     "name": "stdout",
     "output_type": "stream",
     "text": [
      "Epoch 1/20\n",
      "316/316 [==============================] - 0s 1ms/step - loss: 118.3580 - mae: 9.9130\n",
      "Epoch 2/20\n",
      "316/316 [==============================] - 0s 64us/step - loss: 102.6289 - mae: 9.2095\n",
      "Epoch 3/20\n",
      "316/316 [==============================] - 0s 69us/step - loss: 91.5656 - mae: 8.6728\n",
      "Epoch 4/20\n",
      "316/316 [==============================] - 0s 68us/step - loss: 76.0432 - mae: 7.9212\n",
      "Epoch 5/20\n",
      "316/316 [==============================] - 0s 84us/step - loss: 63.1482 - mae: 7.1596\n",
      "Epoch 6/20\n",
      "316/316 [==============================] - 0s 64us/step - loss: 51.6425 - mae: 6.3279\n",
      "Epoch 7/20\n",
      "316/316 [==============================] - 0s 64us/step - loss: 39.1787 - mae: 5.4857\n",
      "Epoch 8/20\n",
      "316/316 [==============================] - 0s 65us/step - loss: 29.8894 - mae: 4.6153\n",
      "Epoch 9/20\n",
      "316/316 [==============================] - 0s 62us/step - loss: 22.9944 - mae: 3.9381\n",
      "Epoch 10/20\n",
      "316/316 [==============================] - 0s 64us/step - loss: 24.5114 - mae: 3.9499\n",
      "Epoch 11/20\n",
      "316/316 [==============================] - 0s 67us/step - loss: 20.8206 - mae: 3.6482\n",
      "Epoch 12/20\n",
      "316/316 [==============================] - 0s 71us/step - loss: 20.5493 - mae: 3.5286\n",
      "Epoch 13/20\n",
      "316/316 [==============================] - 0s 73us/step - loss: 18.8742 - mae: 3.5030\n",
      "Epoch 14/20\n",
      "316/316 [==============================] - 0s 70us/step - loss: 19.9681 - mae: 3.5331\n",
      "Epoch 15/20\n",
      "316/316 [==============================] - 0s 68us/step - loss: 18.8069 - mae: 3.4624\n",
      "Epoch 16/20\n",
      "316/316 [==============================] - 0s 94us/step - loss: 18.0441 - mae: 3.3671\n",
      "Epoch 17/20\n",
      "316/316 [==============================] - 0s 108us/step - loss: 19.3649 - mae: 3.4647\n",
      "Epoch 18/20\n",
      "316/316 [==============================] - 0s 90us/step - loss: 18.2037 - mae: 3.2381\n",
      "Epoch 19/20\n",
      "316/316 [==============================] - 0s 85us/step - loss: 18.5090 - mae: 3.3865\n",
      "Epoch 20/20\n",
      "316/316 [==============================] - 0s 71us/step - loss: 18.5258 - mae: 3.4294\n"
     ]
    }
   ],
   "source": [
    "model_output = model.fit(X_train, y_train, batch_size=20, epochs=20)"
   ]
  },
  {
   "cell_type": "markdown",
   "metadata": {},
   "source": [
    "##### *3.1.3 predicting with test data*"
   ]
  },
  {
   "cell_type": "code",
   "execution_count": 19,
   "metadata": {},
   "outputs": [
    {
     "name": "stdout",
     "output_type": "stream",
     "text": [
      "79/79 [==============================] - 0s 973us/step\n",
      "test: mean squared error loss 15.218327860288982\n",
      "test: mean absolute error loss 3.1643083095550537\n"
     ]
    }
   ],
   "source": [
    "predicted = model.evaluate(X_test, y_test)\n",
    "print(f\"test: mean squared error loss {predicted[0]}\")\n",
    "print(f\"test: mean absolute error loss {predicted[1]}\")"
   ]
  },
  {
   "cell_type": "markdown",
   "metadata": {},
   "source": [
    "#### *3.2 further experiments*\n",
    "The following experiments will help convince you that the architecture choices you’ve made are all fairly reasonable, although there’s still room for improvement:\n",
    "1. You used two hidden layers. Try using one or three hidden layers, and see how doing so affects validation and test accuracy.\n",
    "2. Try using layers with more hidden units or fewer hidden units: 32 units, 64 units, and so on.\n",
    "3. Try using the mae loss function instead of mse.\n",
    "4. Try using the tanh activation (an activation that was popular in the early days of\n",
    "neural networks) instead of relu."
   ]
  },
  {
   "cell_type": "markdown",
   "metadata": {},
   "source": [
    "##### *3.2.1 model using one hiddden layer*"
   ]
  },
  {
   "cell_type": "code",
   "execution_count": 20,
   "metadata": {},
   "outputs": [
    {
     "name": "stdout",
     "output_type": "stream",
     "text": [
      "Epoch 1/20\n",
      "316/316 [==============================] - 0s 928us/step - loss: 130.8246 - mae: 10.4379\n",
      "Epoch 2/20\n",
      "316/316 [==============================] - 0s 70us/step - loss: 120.3331 - mae: 9.9618\n",
      "Epoch 3/20\n",
      "316/316 [==============================] - 0s 59us/step - loss: 113.6022 - mae: 9.6726\n",
      "Epoch 4/20\n",
      "316/316 [==============================] - 0s 59us/step - loss: 104.0589 - mae: 9.2243\n",
      "Epoch 5/20\n",
      "316/316 [==============================] - 0s 59us/step - loss: 96.9397 - mae: 8.8806\n",
      "Epoch 6/20\n",
      "316/316 [==============================] - 0s 59us/step - loss: 89.3699 - mae: 8.5300\n",
      "Epoch 7/20\n",
      "316/316 [==============================] - 0s 59us/step - loss: 82.7400 - mae: 8.1879\n",
      "Epoch 8/20\n",
      "316/316 [==============================] - 0s 58us/step - loss: 73.7910 - mae: 7.6626\n",
      "Epoch 9/20\n",
      "316/316 [==============================] - 0s 58us/step - loss: 66.5331 - mae: 7.3049\n",
      "Epoch 10/20\n",
      "316/316 [==============================] - 0s 61us/step - loss: 61.9143 - mae: 7.0152\n",
      "Epoch 11/20\n",
      "316/316 [==============================] - 0s 56us/step - loss: 55.4966 - mae: 6.5787\n",
      "Epoch 12/20\n",
      "316/316 [==============================] - 0s 60us/step - loss: 50.5342 - mae: 6.2335\n",
      "Epoch 13/20\n",
      "316/316 [==============================] - 0s 60us/step - loss: 45.1718 - mae: 5.8720\n",
      "Epoch 14/20\n",
      "316/316 [==============================] - 0s 54us/step - loss: 43.4684 - mae: 5.7515\n",
      "Epoch 15/20\n",
      "316/316 [==============================] - 0s 58us/step - loss: 39.0597 - mae: 5.3753\n",
      "Epoch 16/20\n",
      "316/316 [==============================] - 0s 55us/step - loss: 31.9364 - mae: 4.7656\n",
      "Epoch 17/20\n",
      "316/316 [==============================] - 0s 53us/step - loss: 30.7910 - mae: 4.6785\n",
      "Epoch 18/20\n",
      "316/316 [==============================] - 0s 61us/step - loss: 27.2381 - mae: 4.2940\n",
      "Epoch 19/20\n",
      "316/316 [==============================] - 0s 95us/step - loss: 24.6287 - mae: 4.1543\n",
      "Epoch 20/20\n",
      "316/316 [==============================] - 0s 78us/step - loss: 23.8875 - mae: 3.9925\n"
     ]
    }
   ],
   "source": [
    "model_slim = models.Sequential()\n",
    "model_slim.add(layers.Dense(32, activation='relu', input_shape=(X_train.shape[1],)))\n",
    "model_slim.add(layers.Dropout(0.3, seed=random_seed)) # adding dropout layers to help with overfitting\n",
    "model_slim.add(layers.Dense(1)) # adding this layer because it is a regression problem\n",
    "\n",
    "\n",
    "model_slim.compile(optimizer='rmsprop', \n",
    "              loss='mse', \n",
    "              metrics=['mae'])\n",
    "\n",
    "model_slim_output = model_slim.fit(X_train, y_train, batch_size=20, epochs=20)"
   ]
  },
  {
   "cell_type": "code",
   "execution_count": 21,
   "metadata": {},
   "outputs": [
    {
     "name": "stdout",
     "output_type": "stream",
     "text": [
      "79/79 [==============================] - 0s 939us/step\n",
      "test: mean squared error loss 25.2938937175123\n",
      "test: mean absolute error loss 4.15211820602417\n"
     ]
    }
   ],
   "source": [
    "predicted_slim = model_slim.evaluate(X_test, y_test)\n",
    "print(f\"test: mean squared error loss {predicted_slim[0]}\")\n",
    "print(f\"test: mean absolute error loss {predicted_slim[1]}\")"
   ]
  },
  {
   "cell_type": "markdown",
   "metadata": {},
   "source": [
    "underfitting here, and not capturing the real values in the data."
   ]
  },
  {
   "cell_type": "markdown",
   "metadata": {},
   "source": [
    "##### *3.2.2 model using more hidden units*"
   ]
  },
  {
   "cell_type": "code",
   "execution_count": 22,
   "metadata": {},
   "outputs": [
    {
     "name": "stdout",
     "output_type": "stream",
     "text": [
      "Epoch 1/20\n",
      "316/316 [==============================] - 0s 1ms/step - loss: 56.0610 - mae: 6.3596\n",
      "Epoch 2/20\n",
      "316/316 [==============================] - 0s 243us/step - loss: 22.5144 - mae: 3.7731\n",
      "Epoch 3/20\n",
      "316/316 [==============================] - 0s 281us/step - loss: 18.8599 - mae: 3.3756\n",
      "Epoch 4/20\n",
      "316/316 [==============================] - 0s 319us/step - loss: 17.4967 - mae: 3.2330\n",
      "Epoch 5/20\n",
      "316/316 [==============================] - 0s 256us/step - loss: 16.1123 - mae: 3.0867\n",
      "Epoch 6/20\n",
      "316/316 [==============================] - 0s 277us/step - loss: 15.4312 - mae: 3.0866\n",
      "Epoch 7/20\n",
      "316/316 [==============================] - 0s 252us/step - loss: 14.0872 - mae: 2.9112\n",
      "Epoch 8/20\n",
      "316/316 [==============================] - 0s 243us/step - loss: 14.8829 - mae: 3.0200\n",
      "Epoch 9/20\n",
      "316/316 [==============================] - 0s 270us/step - loss: 12.0349 - mae: 2.6493\n",
      "Epoch 10/20\n",
      "316/316 [==============================] - 0s 287us/step - loss: 12.8396 - mae: 2.7926\n",
      "Epoch 11/20\n",
      "316/316 [==============================] - 0s 294us/step - loss: 11.4187 - mae: 2.6157\n",
      "Epoch 12/20\n",
      "316/316 [==============================] - 0s 260us/step - loss: 11.1469 - mae: 2.5922\n",
      "Epoch 13/20\n",
      "316/316 [==============================] - 0s 260us/step - loss: 10.9802 - mae: 2.5253\n",
      "Epoch 14/20\n",
      "316/316 [==============================] - 0s 301us/step - loss: 10.2873 - mae: 2.4899\n",
      "Epoch 15/20\n",
      "316/316 [==============================] - 0s 350us/step - loss: 9.5828 - mae: 2.4347\n",
      "Epoch 16/20\n",
      "316/316 [==============================] - 0s 233us/step - loss: 10.6177 - mae: 2.6469\n",
      "Epoch 17/20\n",
      "316/316 [==============================] - 0s 258us/step - loss: 9.0591 - mae: 2.3782\n",
      "Epoch 18/20\n",
      "316/316 [==============================] - 0s 234us/step - loss: 9.5922 - mae: 2.4089\n",
      "Epoch 19/20\n",
      "316/316 [==============================] - 0s 240us/step - loss: 8.4024 - mae: 2.2935\n",
      "Epoch 20/20\n",
      "316/316 [==============================] - 0s 251us/step - loss: 8.0401 - mae: 2.2003\n"
     ]
    }
   ],
   "source": [
    "model_fat = models.Sequential()\n",
    "model_fat.add(layers.Dense(256, activation='relu', input_shape=(X_train.shape[1],)))\n",
    "model_fat.add(layers.Dropout(0.3, seed=random_seed)) # adding dropout layers to help with overfitting\n",
    "model_fat.add(layers.Dense(128, activation='relu'))\n",
    "model_fat.add(layers.Dropout(0.3, seed=random_seed))\n",
    "model_fat.add(layers.Dense(1)) # adding this layer because it is a regression problem\n",
    "\n",
    "\n",
    "model_fat.compile(optimizer='rmsprop', \n",
    "              loss='mse', \n",
    "              metrics=['mae'])\n",
    "\n",
    "model_fat_output = model_fat.fit(X_train, y_train, batch_size=20, epochs=20)"
   ]
  },
  {
   "cell_type": "code",
   "execution_count": 23,
   "metadata": {},
   "outputs": [
    {
     "name": "stdout",
     "output_type": "stream",
     "text": [
      "79/79 [==============================] - 0s 1ms/step\n",
      "test: mean squared error loss 15.87204266801665\n",
      "test: mean absolute error loss 3.047870635986328\n"
     ]
    }
   ],
   "source": [
    "predicted_fat = model_fat.evaluate(X_test, y_test)\n",
    "print(f\"test: mean squared error loss {predicted_fat[0]}\")\n",
    "print(f\"test: mean absolute error loss {predicted_fat[1]}\")"
   ]
  },
  {
   "cell_type": "markdown",
   "metadata": {},
   "source": [
    "model performs good here, better than the original geometry"
   ]
  },
  {
   "cell_type": "markdown",
   "metadata": {},
   "source": [
    "##### *3.2.3 model using mae loss*"
   ]
  },
  {
   "cell_type": "code",
   "execution_count": 24,
   "metadata": {},
   "outputs": [
    {
     "name": "stdout",
     "output_type": "stream",
     "text": [
      "Epoch 1/20\n",
      "316/316 [==============================] - 0s 1ms/step - loss: 9.6232 - mse: 112.5280\n",
      "Epoch 2/20\n",
      "316/316 [==============================] - 0s 81us/step - loss: 8.7322 - mse: 92.5440\n",
      "Epoch 3/20\n",
      "316/316 [==============================] - 0s 93us/step - loss: 7.9136 - mse: 77.4263\n",
      "Epoch 4/20\n",
      "316/316 [==============================] - 0s 84us/step - loss: 6.8690 - mse: 60.8901\n",
      "Epoch 5/20\n",
      "316/316 [==============================] - 0s 102us/step - loss: 5.8822 - mse: 46.2384\n",
      "Epoch 6/20\n",
      "316/316 [==============================] - 0s 107us/step - loss: 5.2873 - mse: 38.4869\n",
      "Epoch 7/20\n",
      "316/316 [==============================] - 0s 62us/step - loss: 4.3899 - mse: 28.6425\n",
      "Epoch 8/20\n",
      "316/316 [==============================] - 0s 66us/step - loss: 4.1893 - mse: 25.4656\n",
      "Epoch 9/20\n",
      "316/316 [==============================] - 0s 61us/step - loss: 4.0343 - mse: 24.7666\n",
      "Epoch 10/20\n",
      "316/316 [==============================] - 0s 65us/step - loss: 3.9112 - mse: 24.5084\n",
      "Epoch 11/20\n",
      "316/316 [==============================] - 0s 62us/step - loss: 3.7142 - mse: 23.0018\n",
      "Epoch 12/20\n",
      "316/316 [==============================] - 0s 69us/step - loss: 3.4378 - mse: 20.2887\n",
      "Epoch 13/20\n",
      "316/316 [==============================] - 0s 61us/step - loss: 3.5241 - mse: 20.3639\n",
      "Epoch 14/20\n",
      "316/316 [==============================] - 0s 62us/step - loss: 3.5881 - mse: 21.1820\n",
      "Epoch 15/20\n",
      "316/316 [==============================] - 0s 65us/step - loss: 3.6313 - mse: 21.2265\n",
      "Epoch 16/20\n",
      "316/316 [==============================] - 0s 64us/step - loss: 3.4816 - mse: 19.9230\n",
      "Epoch 17/20\n",
      "316/316 [==============================] - 0s 62us/step - loss: 3.4035 - mse: 20.3702\n",
      "Epoch 18/20\n",
      "316/316 [==============================] - 0s 62us/step - loss: 3.4672 - mse: 20.6029\n",
      "Epoch 19/20\n",
      "316/316 [==============================] - 0s 64us/step - loss: 3.4079 - mse: 19.7452\n",
      "Epoch 20/20\n",
      "316/316 [==============================] - 0s 66us/step - loss: 3.4679 - mse: 20.1896\n"
     ]
    }
   ],
   "source": [
    "model_mae = models.Sequential()\n",
    "model_mae.add(layers.Dense(32, activation='relu', input_shape=(X_train.shape[1],)))\n",
    "model_mae.add(layers.Dropout(0.3, seed=random_seed)) # adding dropout layers to help with overfitting\n",
    "model_mae.add(layers.Dense(16, activation='relu'))\n",
    "model_mae.add(layers.Dense(1)) # adding this layer because it is a regression problem\n",
    "\n",
    "\n",
    "model_mae.compile(optimizer='rmsprop', \n",
    "              loss='mae', \n",
    "              metrics=['mse'])\n",
    "\n",
    "model_mae_output = model_mae.fit(X_train, y_train, batch_size=20, epochs=20)"
   ]
  },
  {
   "cell_type": "code",
   "execution_count": 25,
   "metadata": {},
   "outputs": [
    {
     "name": "stdout",
     "output_type": "stream",
     "text": [
      "79/79 [==============================] - 0s 944us/step\n",
      "test: mean squared error loss 15.803775787353516\n",
      "test: mean absolute error loss 3.0256048214586477\n"
     ]
    }
   ],
   "source": [
    "predicted_mae_model = model_mae.evaluate(X_test, y_test)\n",
    "print(f\"test: mean squared error loss {predicted_mae_model[1]}\")\n",
    "print(f\"test: mean absolute error loss {predicted_mae_model[0]}\")"
   ]
  },
  {
   "cell_type": "markdown",
   "metadata": {},
   "source": [
    "the model performs about the same in this case with a little bit better scores overall"
   ]
  },
  {
   "cell_type": "markdown",
   "metadata": {},
   "source": [
    "##### *3.2.4 model using tanh activation*"
   ]
  },
  {
   "cell_type": "code",
   "execution_count": 26,
   "metadata": {},
   "outputs": [
    {
     "name": "stdout",
     "output_type": "stream",
     "text": [
      "Epoch 1/20\n",
      "316/316 [==============================] - 0s 1ms/step - loss: 126.5751 - mae: 10.2939\n",
      "Epoch 2/20\n",
      "316/316 [==============================] - 0s 63us/step - loss: 122.1501 - mae: 10.0991\n",
      "Epoch 3/20\n",
      "316/316 [==============================] - 0s 64us/step - loss: 117.3921 - mae: 9.9126\n",
      "Epoch 4/20\n",
      "316/316 [==============================] - 0s 70us/step - loss: 114.7226 - mae: 9.8298\n",
      "Epoch 5/20\n",
      "316/316 [==============================] - 0s 65us/step - loss: 111.6152 - mae: 9.6545\n",
      "Epoch 6/20\n",
      "316/316 [==============================] - 0s 63us/step - loss: 106.4805 - mae: 9.4421\n",
      "Epoch 7/20\n",
      "316/316 [==============================] - 0s 59us/step - loss: 104.1886 - mae: 9.3610\n",
      "Epoch 8/20\n",
      "316/316 [==============================] - 0s 62us/step - loss: 96.4676 - mae: 9.0145\n",
      "Epoch 9/20\n",
      "316/316 [==============================] - 0s 58us/step - loss: 91.6401 - mae: 8.7799\n",
      "Epoch 10/20\n",
      "316/316 [==============================] - 0s 77us/step - loss: 85.0526 - mae: 8.3990\n",
      "Epoch 11/20\n",
      "316/316 [==============================] - 0s 70us/step - loss: 81.4942 - mae: 8.2401\n",
      "Epoch 12/20\n",
      "316/316 [==============================] - 0s 58us/step - loss: 76.5033 - mae: 7.9346\n",
      "Epoch 13/20\n",
      "316/316 [==============================] - 0s 57us/step - loss: 68.4408 - mae: 7.4645\n",
      "Epoch 14/20\n",
      "316/316 [==============================] - 0s 60us/step - loss: 63.3529 - mae: 7.1666\n",
      "Epoch 15/20\n",
      "316/316 [==============================] - 0s 60us/step - loss: 58.1826 - mae: 6.8303\n",
      "Epoch 16/20\n",
      "316/316 [==============================] - 0s 78us/step - loss: 53.2556 - mae: 6.4459\n",
      "Epoch 17/20\n",
      "316/316 [==============================] - 0s 92us/step - loss: 45.4849 - mae: 6.0320\n",
      "Epoch 18/20\n",
      "316/316 [==============================] - 0s 57us/step - loss: 40.1577 - mae: 5.5182\n",
      "Epoch 19/20\n",
      "316/316 [==============================] - 0s 59us/step - loss: 38.9120 - mae: 5.3465\n",
      "Epoch 20/20\n",
      "316/316 [==============================] - 0s 61us/step - loss: 33.3191 - mae: 4.9218\n"
     ]
    }
   ],
   "source": [
    "model_tanh = models.Sequential()\n",
    "model_tanh.add(layers.Dense(32, activation='tanh', input_shape=(X_train.shape[1],)))\n",
    "model_tanh.add(layers.Dropout(0.3, seed=random_seed)) # adding dropout layers to help with overfitting\n",
    "model_tanh.add(layers.Dense(16, activation='tanh'))\n",
    "model_tanh.add(layers.Dense(1)) # adding this layer because it is a regression problem\n",
    "\n",
    "\n",
    "model_tanh.compile(optimizer='rmsprop', \n",
    "              loss='mse', \n",
    "              metrics=['mae'])\n",
    "\n",
    "model_tanh_output = model_tanh.fit(X_train, y_train, batch_size=20, epochs=20)"
   ]
  },
  {
   "cell_type": "code",
   "execution_count": 27,
   "metadata": {},
   "outputs": [
    {
     "name": "stdout",
     "output_type": "stream",
     "text": [
      "79/79 [==============================] - 0s 926us/step\n",
      "test: mean squared error loss 43.97593906257726\n",
      "test: mean absolute error loss 5.622044086456299\n"
     ]
    }
   ],
   "source": [
    "predicted_tanh = model_tanh.evaluate(X_test, y_test)\n",
    "print(f\"test: mean squared error loss {predicted_tanh[0]}\")\n",
    "print(f\"test: mean absolute error loss {predicted_tanh[1]}\")"
   ]
  },
  {
   "cell_type": "markdown",
   "metadata": {},
   "source": [
    "lots more loss in a model that uses a tanh actuvation vs relu activation for this neural network geometry"
   ]
  },
  {
   "cell_type": "markdown",
   "metadata": {},
   "source": [
    "#### *3.3 k fold validation*"
   ]
  },
  {
   "cell_type": "markdown",
   "metadata": {},
   "source": [
    "the code here is taken out of the textbook for the regression examples"
   ]
  },
  {
   "cell_type": "markdown",
   "metadata": {},
   "source": [
    "##### *3.3.1 build model function definition*"
   ]
  },
  {
   "cell_type": "code",
   "execution_count": 28,
   "metadata": {},
   "outputs": [],
   "source": [
    "def build_model():\n",
    "    model = models.Sequential()\n",
    "    model.add(layers.Dense(32, activation='relu',\n",
    "                           input_shape=(X_train.shape[1],)))\n",
    "    model.add(layers.Dense(16, activation='relu'))\n",
    "    model.add(layers.Dense(1))\n",
    "    model.compile(optimizer='rmsprop', loss='mse', metrics=['mae'])\n",
    "    return model"
   ]
  },
  {
   "cell_type": "markdown",
   "metadata": {},
   "source": [
    "##### *3.3.2 defining k-fold variables*"
   ]
  },
  {
   "cell_type": "code",
   "execution_count": 29,
   "metadata": {},
   "outputs": [],
   "source": [
    "n_folds = 10\n",
    "num_epochs = 20\n",
    "num_val_samples = len(X_train) // n_folds\n",
    "all_mae_histories = []"
   ]
  },
  {
   "cell_type": "markdown",
   "metadata": {},
   "source": [
    "##### *3.3.3 k-fold loop*"
   ]
  },
  {
   "cell_type": "code",
   "execution_count": 30,
   "metadata": {},
   "outputs": [
    {
     "name": "stdout",
     "output_type": "stream",
     "text": [
      "processing fold # 0\n",
      "processing fold # 1\n",
      "processing fold # 2\n",
      "processing fold # 3\n",
      "processing fold # 4\n",
      "processing fold # 5\n",
      "processing fold # 6\n",
      "processing fold # 7\n",
      "processing fold # 8\n",
      "processing fold # 9\n"
     ]
    }
   ],
   "source": [
    "\n",
    "for i in range(n_folds):\n",
    "    print(\"processing fold #\", i)\n",
    "    val_data = X_train[i * num_val_samples : (i + 1) * num_val_samples]\n",
    "    val_targets = y_train[i * num_val_samples : (i + 1) * num_val_samples]\n",
    "    \n",
    "    partial_train_data = np.concatenate(\n",
    "        [X_train[:i * num_val_samples],\n",
    "         X_train[(i + 1) * num_val_samples:]],\n",
    "        axis = 0)\n",
    "    \n",
    "    partial_train_targets = np.concatenate(\n",
    "        [y_train[:i * num_val_samples],\n",
    "         y_train[(i + 1) * num_val_samples:]],\n",
    "        axis = 0)\n",
    "    \n",
    "    model = build_model()\n",
    "    history = model.fit(partial_train_data, partial_train_targets,\n",
    "        validation_data=(val_data, val_targets),\n",
    "        epochs=num_epochs, batch_size=1, verbose=0)\n",
    "    \n",
    "    mae_history = history.history['val_mae']\n",
    "    all_mae_histories.append(mae_history)\n",
    "    "
   ]
  },
  {
   "cell_type": "markdown",
   "metadata": {},
   "source": [
    "##### *3.3.4 plotting k-fold results*"
   ]
  },
  {
   "cell_type": "code",
   "execution_count": 31,
   "metadata": {},
   "outputs": [],
   "source": [
    "average_mae_history = [\n",
    "    np.mean([x[i] for x in all_mae_histories]) for i in range(num_epochs)]"
   ]
  },
  {
   "cell_type": "code",
   "execution_count": 32,
   "metadata": {},
   "outputs": [
    {
     "data": {
      "image/png": "[encoded data removed]",
      "text/plain": [
       "<Figure size 432x288 with 1 Axes>"
      ]
     },
     "metadata": {
      "needs_background": "light"
     },
     "output_type": "display_data"
    }
   ],
   "source": [
    "import matplotlib.pyplot as plt\n",
    "plt.plot(range(1, len(average_mae_history) + 1), average_mae_history)\n",
    "plt.xlabel('Epochs')\n",
    "plt.ylabel('Validation MAE')\n",
    "plt.show()"
   ]
  },
  {
   "cell_type": "markdown",
   "metadata": {},
   "source": [
    "looks like validation mean absolute error is minimized at around 10 epochs or so"
   ]
  },
  {
   "cell_type": "code",
   "execution_count": 33,
   "metadata": {},
   "outputs": [
    {
     "data": {
      "image/png": "[encoded data removed]",
      "text/plain": [
       "<Figure size 432x288 with 1 Axes>"
      ]
     },
     "metadata": {
      "needs_background": "light"
     },
     "output_type": "display_data"
    }
   ],
   "source": [
    "def smooth_curve(points, factor=0.9):\n",
    "  smoothed_points = []\n",
    "  for point in points:\n",
    "    if smoothed_points:\n",
    "      previous = smoothed_points[-1]\n",
    "      smoothed_points.append(previous * factor + point * (1 - factor))\n",
    "    else:\n",
    "      smoothed_points.append(point)\n",
    "  return smoothed_points\n",
    "smooth_mae_history = smooth_curve(average_mae_history[10:])\n",
    "plt.plot(range(1, len(smooth_mae_history) + 1), smooth_mae_history)\n",
    "plt.xlabel('Epochs')\n",
    "plt.ylabel('Validation MAE')\n",
    "plt.show()"
   ]
  },
  {
   "cell_type": "markdown",
   "metadata": {},
   "source": [
    "this shows the average validation score vs number of epochs. it goes up over the epochs, but is not that different in absolute terms."
   ]
  },
  {
   "cell_type": "markdown",
   "metadata": {},
   "source": [
    "##### *3.3.5 building model from validation*"
   ]
  },
  {
   "cell_type": "code",
   "execution_count": 34,
   "metadata": {},
   "outputs": [
    {
     "name": "stdout",
     "output_type": "stream",
     "text": [
      "Epoch 1/10\n",
      "316/316 [==============================] - 0s 899us/step - loss: 125.9590 - mae: 10.2354\n",
      "Epoch 2/10\n",
      "316/316 [==============================] - 0s 62us/step - loss: 108.1365 - mae: 9.4563\n",
      "Epoch 3/10\n",
      "316/316 [==============================] - 0s 77us/step - loss: 93.4494 - mae: 8.7767\n",
      "Epoch 4/10\n",
      "316/316 [==============================] - 0s 54us/step - loss: 78.9494 - mae: 8.0436\n",
      "Epoch 5/10\n",
      "316/316 [==============================] - 0s 67us/step - loss: 64.9423 - mae: 7.2385\n",
      "Epoch 6/10\n",
      "316/316 [==============================] - 0s 60us/step - loss: 51.8186 - mae: 6.3765\n",
      "Epoch 7/10\n",
      "316/316 [==============================] - 0s 58us/step - loss: 40.3951 - mae: 5.5143\n",
      "Epoch 8/10\n",
      "316/316 [==============================] - 0s 61us/step - loss: 31.0415 - mae: 4.6974\n",
      "Epoch 9/10\n",
      "316/316 [==============================] - 0s 55us/step - loss: 24.1974 - mae: 4.0408\n",
      "Epoch 10/10\n",
      "316/316 [==============================] - 0s 74us/step - loss: 20.1712 - mae: 3.6308\n",
      "79/79 [==============================] - 0s 723us/step\n",
      "testing mean absolute error 3.7550230026245117\n"
     ]
    }
   ],
   "source": [
    "model = build_model()\n",
    "model.fit(X_train, y_train,\n",
    "          epochs = 10, batch_size = 20)\n",
    "\n",
    "test_mse_score, test_mae_score = model.evaluate(X_test, y_test)\n",
    "print(f\"testing mean absolute error {test_mae_score}\")"
   ]
  },
  {
   "cell_type": "markdown",
   "metadata": {},
   "source": [
    "the mean absolute error for the testing error is 3.3 grade units out of 20. this model does pretty well and is not far off from the training data. 3.26 mae in training and 3.3 in testing. epochs of 10 are a good way to normalize it for this network geometry."
   ]
  }
 ],
 "metadata": {
  "interpreter": {
   "hash": "b0fa6594d8f4cbf19f97940f81e996739fb7646882a419484c72d19e05852a7e"
  },
  "kernelspec": {
   "display_name": "Python 3",
   "language": "python",
   "name": "python3"
  },
  "language_info": {
   "codemirror_mode": {
    "name": "ipython",
    "version": 3
   },
   "file_extension": ".py",
   "mimetype": "text/x-python",
   "name": "python",
   "nbconvert_exporter": "python",
   "pygments_lexer": "ipython3",
   "version": "3.8.5"
  }
 },
 "nbformat": 4,
 "nbformat_minor": 4
}
