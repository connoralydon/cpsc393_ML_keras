{
 "cells": [
  {
   "cell_type": "markdown",
   "metadata": {},
   "source": [
    "# Assignment 1\n",
    "\n",
    "\n",
    "1) Read chapters 2-4 in your textbook and review the coding examples we went over in class\n",
    "\n",
    "2) Review the Keras documentation for things like the Layer types and Optimizer types to better familiarize yourself\n",
    "\n",
    "3) Redo the coding examples and do the \"Further experiments\" in chapter 3 of your book with datasets you find interesting and may want to use for further assignments and projects\n",
    "\n",
    "4) Provide a brief write up of the experiment and analysis."
   ]
  },
  {
   "cell_type": "markdown",
   "metadata": {},
   "source": [
    "# **table of contents**\n",
    "\n",
    "1. import libraries\n",
    "2. data prep\n",
    "    1. reading data\n",
    "    2. finding summary data\n",
    "    3. dummyizing data\n",
    "    4. creating predictor & outcome attribute lists\n",
    "    5. transforming data into numpy arrays\n",
    "    6. creating training and testing data\n",
    "    7. standardizing the data (z-scoring)\n",
    "3. modeling\n",
    "    1. initial model\n",
    "        1. building layers\n",
    "        2. fitting model on training data\n",
    "        3. predicting with test data\n",
    "    2. further experiments\n",
    "        1. model using one hiddden layer \n",
    "        2. model using more hidden units \n",
    "        3. model using mae loss\n",
    "        4. model using tanh activation\n",
    "    3. kfold optimization\n",
    "        1. build model function definition\n",
    "        2. defining k-fold variables\n",
    "        3. k-fold loop\n",
    "        4. plotting k-fold results\n",
    "        5. building model from validation\n"
   ]
  },
  {
   "cell_type": "markdown",
   "metadata": {},
   "source": [
    "## 1 import libraries"
   ]
  },
  {
   "cell_type": "code",
   "execution_count": 1,
   "metadata": {},
   "outputs": [
    {
     "name": "stderr",
     "output_type": "stream",
     "text": [
      "Using TensorFlow backend.\n"
     ]
    }
   ],
   "source": [
    "# data prep\n",
    "from sklearn.preprocessing import StandardScaler, MinMaxScaler\n",
    "from sklearn.model_selection import train_test_split\n",
    "\n",
    "import numpy as np\n",
    "import pandas as pd\n",
    "\n",
    "# keras imports\n",
    "from keras import models\n",
    "from keras import layers\n",
    "from keras import optimizers\n",
    "\n",
    "# random seed for pseudo-random operations\n",
    "random_seed = 100"
   ]
  },
  {
   "cell_type": "markdown",
   "metadata": {},
   "source": [
    "## 2 data prep"
   ]
  },
  {
   "cell_type": "markdown",
   "metadata": {},
   "source": [
    "#### *2.1 reading dataset*"
   ]
  },
  {
   "cell_type": "code",
   "execution_count": 251,
   "metadata": {},
   "outputs": [],
   "source": [
    "math_data = pd.read_csv(\"https://raw.githubusercontent.com/connoralydon/datasets/main/student-math.csv\", sep=\";\")"
   ]
  },
  {
   "cell_type": "markdown",
   "metadata": {},
   "source": [
    "#### *2.2 summary info about data*"
   ]
  },
  {
   "cell_type": "code",
   "execution_count": 252,
   "metadata": {},
   "outputs": [
    {
     "data": {
      "text/plain": [
       "<bound method NDFrame.head of     school sex  age address famsize Pstatus  Medu  Fedu      Mjob      Fjob  \\\n",
       "0       GP   F   18       U     GT3       A     4     4   at_home   teacher   \n",
       "1       GP   F   17       U     GT3       T     1     1   at_home     other   \n",
       "2       GP   F   15       U     LE3       T     1     1   at_home     other   \n",
       "3       GP   F   15       U     GT3       T     4     2    health  services   \n",
       "4       GP   F   16       U     GT3       T     3     3     other     other   \n",
       "..     ...  ..  ...     ...     ...     ...   ...   ...       ...       ...   \n",
       "390     MS   M   20       U     LE3       A     2     2  services  services   \n",
       "391     MS   M   17       U     LE3       T     3     1  services  services   \n",
       "392     MS   M   21       R     GT3       T     1     1     other     other   \n",
       "393     MS   M   18       R     LE3       T     3     2  services     other   \n",
       "394     MS   M   19       U     LE3       T     1     1     other   at_home   \n",
       "\n",
       "     ... famrel freetime  goout  Dalc  Walc health absences  G1  G2  G3  \n",
       "0    ...      4        3      4     1     1      3        6   5   6   6  \n",
       "1    ...      5        3      3     1     1      3        4   5   5   6  \n",
       "2    ...      4        3      2     2     3      3       10   7   8  10  \n",
       "3    ...      3        2      2     1     1      5        2  15  14  15  \n",
       "4    ...      4        3      2     1     2      5        4   6  10  10  \n",
       "..   ...    ...      ...    ...   ...   ...    ...      ...  ..  ..  ..  \n",
       "390  ...      5        5      4     4     5      4       11   9   9   9  \n",
       "391  ...      2        4      5     3     4      2        3  14  16  16  \n",
       "392  ...      5        5      3     3     3      3        3  10   8   7  \n",
       "393  ...      4        4      1     3     4      5        0  11  12  10  \n",
       "394  ...      3        2      3     3     3      5        5   8   9   9  \n",
       "\n",
       "[395 rows x 33 columns]>"
      ]
     },
     "execution_count": 252,
     "metadata": {},
     "output_type": "execute_result"
    }
   ],
   "source": [
    "math_data.head"
   ]
  },
  {
   "cell_type": "code",
   "execution_count": 253,
   "metadata": {},
   "outputs": [
    {
     "name": "stdout",
     "output_type": "stream",
     "text": [
      "<class 'pandas.core.frame.DataFrame'>\n",
      "RangeIndex: 395 entries, 0 to 394\n",
      "Data columns (total 33 columns):\n",
      " #   Column      Non-Null Count  Dtype \n",
      "---  ------      --------------  ----- \n",
      " 0   school      395 non-null    object\n",
      " 1   sex         395 non-null    object\n",
      " 2   age         395 non-null    int64 \n",
      " 3   address     395 non-null    object\n",
      " 4   famsize     395 non-null    object\n",
      " 5   Pstatus     395 non-null    object\n",
      " 6   Medu        395 non-null    int64 \n",
      " 7   Fedu        395 non-null    int64 \n",
      " 8   Mjob        395 non-null    object\n",
      " 9   Fjob        395 non-null    object\n",
      " 10  reason      395 non-null    object\n",
      " 11  guardian    395 non-null    object\n",
      " 12  traveltime  395 non-null    int64 \n",
      " 13  studytime   395 non-null    int64 \n",
      " 14  failures    395 non-null    int64 \n",
      " 15  schoolsup   395 non-null    object\n",
      " 16  famsup      395 non-null    object\n",
      " 17  paid        395 non-null    object\n",
      " 18  activities  395 non-null    object\n",
      " 19  nursery     395 non-null    object\n",
      " 20  higher      395 non-null    object\n",
      " 21  internet    395 non-null    object\n",
      " 22  romantic    395 non-null    object\n",
      " 23  famrel      395 non-null    int64 \n",
      " 24  freetime    395 non-null    int64 \n",
      " 25  goout       395 non-null    int64 \n",
      " 26  Dalc        395 non-null    int64 \n",
      " 27  Walc        395 non-null    int64 \n",
      " 28  health      395 non-null    int64 \n",
      " 29  absences    395 non-null    int64 \n",
      " 30  G1          395 non-null    int64 \n",
      " 31  G2          395 non-null    int64 \n",
      " 32  G3          395 non-null    int64 \n",
      "dtypes: int64(16), object(17)\n",
      "memory usage: 102.0+ KB\n"
     ]
    }
   ],
   "source": [
    "math_data.info()"
   ]
  },
  {
   "cell_type": "code",
   "execution_count": 254,
   "metadata": {},
   "outputs": [
    {
     "data": {
      "text/plain": [
       "school        object\n",
       "sex           object\n",
       "age            int64\n",
       "address       object\n",
       "famsize       object\n",
       "Pstatus       object\n",
       "Medu           int64\n",
       "Fedu           int64\n",
       "Mjob          object\n",
       "Fjob          object\n",
       "reason        object\n",
       "guardian      object\n",
       "traveltime     int64\n",
       "studytime      int64\n",
       "failures       int64\n",
       "schoolsup     object\n",
       "famsup        object\n",
       "paid          object\n",
       "activities    object\n",
       "nursery       object\n",
       "higher        object\n",
       "internet      object\n",
       "romantic      object\n",
       "famrel         int64\n",
       "freetime       int64\n",
       "goout          int64\n",
       "Dalc           int64\n",
       "Walc           int64\n",
       "health         int64\n",
       "absences       int64\n",
       "G1             int64\n",
       "G2             int64\n",
       "G3             int64\n",
       "dtype: object"
      ]
     },
     "execution_count": 254,
     "metadata": {},
     "output_type": "execute_result"
    }
   ],
   "source": [
    "math_data.dtypes"
   ]
  },
  {
   "cell_type": "code",
   "execution_count": 255,
   "metadata": {},
   "outputs": [
    {
     "data": {
      "text/plain": [
       "Index(['school', 'sex', 'age', 'address', 'famsize', 'Pstatus', 'Medu', 'Fedu',\n",
       "       'Mjob', 'Fjob', 'reason', 'guardian', 'traveltime', 'studytime',\n",
       "       'failures', 'schoolsup', 'famsup', 'paid', 'activities', 'nursery',\n",
       "       'higher', 'internet', 'romantic', 'famrel', 'freetime', 'goout', 'Dalc',\n",
       "       'Walc', 'health', 'absences', 'G1', 'G2', 'G3'],\n",
       "      dtype='object')"
      ]
     },
     "execution_count": 255,
     "metadata": {},
     "output_type": "execute_result"
    }
   ],
   "source": [
    "math_data.columns"
   ]
  },
  {
   "cell_type": "code",
   "execution_count": 256,
   "metadata": {},
   "outputs": [
    {
     "data": {
      "text/plain": [
       "(395, 33)"
      ]
     },
     "execution_count": 256,
     "metadata": {},
     "output_type": "execute_result"
    }
   ],
   "source": [
    "math_data.shape"
   ]
  },
  {
   "cell_type": "code",
   "execution_count": 257,
   "metadata": {},
   "outputs": [
    {
     "name": "stdout",
     "output_type": "stream",
     "text": [
      "First test\n",
      "range of 0 to 19\n",
      "\n",
      "Second test\n",
      "range of 3 to 19\n",
      "\n",
      "Final test\n",
      "range of 0 to 20\n",
      "\n"
     ]
    }
   ],
   "source": [
    "# observe the different values used for species - 2 different values: 0, 1\n",
    "def print_range(data):\n",
    "    print(f\"range of {data.min()} to {data.max()}\\n\")\n",
    "\n",
    "print(\"First test\")\n",
    "print_range(math_data[\"G2\"])\n",
    "\n",
    "print(\"Second test\")\n",
    "print_range(math_data[\"G1\"])\n",
    "\n",
    "print(\"Final test\")\n",
    "print_range(math_data[\"G3\"])"
   ]
  },
  {
   "cell_type": "code",
   "execution_count": 258,
   "metadata": {},
   "outputs": [
    {
     "name": "stdout",
     "output_type": "stream",
     "text": [
      "total null values\n"
     ]
    },
    {
     "data": {
      "text/plain": [
       "0"
      ]
     },
     "execution_count": 258,
     "metadata": {},
     "output_type": "execute_result"
    }
   ],
   "source": [
    "print(\"total null values\")\n",
    "math_data.isnull().sum(axis=0).sum()"
   ]
  },
  {
   "cell_type": "code",
   "execution_count": 259,
   "metadata": {},
   "outputs": [
    {
     "name": "stdout",
     "output_type": "stream",
     "text": [
      "num duplicates\n"
     ]
    },
    {
     "data": {
      "text/plain": [
       "0"
      ]
     },
     "execution_count": 259,
     "metadata": {},
     "output_type": "execute_result"
    }
   ],
   "source": [
    "print(\"num duplicates\")\n",
    "math_data.duplicated().sum(axis=0)"
   ]
  },
  {
   "cell_type": "markdown",
   "metadata": {},
   "source": [
    "#### *2.3 dummyizing data*"
   ]
  },
  {
   "cell_type": "code",
   "execution_count": 260,
   "metadata": {},
   "outputs": [],
   "source": [
    "categorical_cols = {}\n",
    "\n",
    "for col in math_data.columns:\n",
    "    if(math_data[col].dtype == \"object\"):\n",
    "        categorical_cols[col] = list(math_data[col].unique())\n",
    "\n",
    "numerical_cols = list(set(math_data.columns) - set(categorical_cols.keys())) # set difference\n",
    "\n",
    "math_data_dummy = pd.get_dummies(math_data, columns = categorical_cols.keys())"
   ]
  },
  {
   "cell_type": "markdown",
   "metadata": {},
   "source": [
    "#### *2.4 model variables*\n",
    "removing g1, g2, g3 because they would be highly autocorrelary. someone who does good on one test is likely t odo good on another."
   ]
  },
  {
   "cell_type": "code",
   "execution_count": 261,
   "metadata": {},
   "outputs": [],
   "source": [
    "predictors = list(math_data_dummy.columns)\n",
    "predictors.remove(\"G1\") # first exam\n",
    "predictors.remove(\"G2\") # second exam\n",
    "predictors.remove(\"G3\") # third exam\n",
    "\n",
    "outcome = \"G3\""
   ]
  },
  {
   "cell_type": "markdown",
   "metadata": {},
   "source": [
    "#### *2.5 transforming data into numpy arrays*\n",
    "this is because keras won't take pandas dataframes"
   ]
  },
  {
   "cell_type": "code",
   "execution_count": 262,
   "metadata": {},
   "outputs": [],
   "source": [
    "X = np.array(math_data_dummy[predictors])\n",
    "y = np.array(math_data_dummy[outcome])\n"
   ]
  },
  {
   "cell_type": "markdown",
   "metadata": {},
   "source": [
    "#### *2.6 creating training and testing data*"
   ]
  },
  {
   "cell_type": "code",
   "execution_count": 263,
   "metadata": {},
   "outputs": [],
   "source": [
    "\n",
    "X_train, X_test, y_train, y_test = train_test_split(X, y, test_size=0.20, shuffle=True, random_state=random_seed)"
   ]
  },
  {
   "cell_type": "markdown",
   "metadata": {},
   "source": [
    "#### *2.7 standardizing the data (z-scoring)*\n",
    "to avoid wildy wifferent values in the model"
   ]
  },
  {
   "cell_type": "code",
   "execution_count": 264,
   "metadata": {},
   "outputs": [],
   "source": [
    "z = StandardScaler() # standard scaling object\n",
    "# z = MinMaxScaler() # alternative min max scaler so all values should lie between 0-1 for training and about that for testing\n",
    "\n",
    "# fitting scaler object to training data then outputting it\n",
    "X_train = z.fit_transform(X_train)\n",
    "# fit the testing data on the distributions found in the training data\n",
    "X_test = z.transform(X_test)\n"
   ]
  },
  {
   "cell_type": "markdown",
   "metadata": {},
   "source": [
    "## 3 modeling"
   ]
  },
  {
   "cell_type": "markdown",
   "metadata": {},
   "source": [
    "#### *3.1 building initial model*"
   ]
  },
  {
   "cell_type": "code",
   "execution_count": 265,
   "metadata": {},
   "outputs": [],
   "source": [
    "model = models.Sequential()\n",
    "model.add(layers.Dense(32, activation='relu', input_shape=(X_train.shape[1],)))\n",
    "model.add(layers.Dropout(0.3, seed=random_seed)) # adding dropout layers to help with overfitting\n",
    "model.add(layers.Dense(16, activation='relu'))\n",
    "model.add(layers.Dense(1)) # adding this layer because it is a regression problem\n"
   ]
  },
  {
   "cell_type": "markdown",
   "metadata": {},
   "source": [
    "##### *3.1.1 compiling model loss*"
   ]
  },
  {
   "cell_type": "code",
   "execution_count": 266,
   "metadata": {},
   "outputs": [],
   "source": [
    "\n",
    "model.compile(optimizer='rmsprop', \n",
    "              loss='mse', \n",
    "              metrics=['mae'])\n"
   ]
  },
  {
   "cell_type": "markdown",
   "metadata": {},
   "source": [
    "##### *3.1.2 fitting model on training data*"
   ]
  },
  {
   "cell_type": "code",
   "execution_count": 267,
   "metadata": {},
   "outputs": [
    {
     "name": "stdout",
     "output_type": "stream",
     "text": [
      "Epoch 1/20\n",
      "316/316 [==============================] - 0s 1ms/step - loss: 119.6751 - mae: 9.9906\n",
      "Epoch 2/20\n",
      "316/316 [==============================] - 0s 72us/step - loss: 101.0312 - mae: 9.1572\n",
      "Epoch 3/20\n",
      "316/316 [==============================] - 0s 64us/step - loss: 86.5112 - mae: 8.4750\n",
      "Epoch 4/20\n",
      "316/316 [==============================] - 0s 68us/step - loss: 72.8146 - mae: 7.6959\n",
      "Epoch 5/20\n",
      "316/316 [==============================] - 0s 69us/step - loss: 58.0657 - mae: 6.8205\n",
      "Epoch 6/20\n",
      "316/316 [==============================] - 0s 64us/step - loss: 47.2777 - mae: 6.0455\n",
      "Epoch 7/20\n",
      "316/316 [==============================] - 0s 64us/step - loss: 35.8962 - mae: 5.1757\n",
      "Epoch 8/20\n",
      "316/316 [==============================] - 0s 65us/step - loss: 28.4997 - mae: 4.3849\n",
      "Epoch 9/20\n",
      "316/316 [==============================] - 0s 60us/step - loss: 25.6380 - mae: 4.1440\n",
      "Epoch 10/20\n",
      "316/316 [==============================] - 0s 63us/step - loss: 25.0365 - mae: 3.9596\n",
      "Epoch 11/20\n",
      "316/316 [==============================] - 0s 62us/step - loss: 23.5457 - mae: 3.8782\n",
      "Epoch 12/20\n",
      "316/316 [==============================] - 0s 69us/step - loss: 21.7583 - mae: 3.7079\n",
      "Epoch 13/20\n",
      "316/316 [==============================] - 0s 63us/step - loss: 21.3804 - mae: 3.5563\n",
      "Epoch 14/20\n",
      "316/316 [==============================] - 0s 63us/step - loss: 20.8165 - mae: 3.6028\n",
      "Epoch 15/20\n",
      "316/316 [==============================] - 0s 64us/step - loss: 20.0247 - mae: 3.5211\n",
      "Epoch 16/20\n",
      "316/316 [==============================] - 0s 66us/step - loss: 19.4162 - mae: 3.5992\n",
      "Epoch 17/20\n",
      "316/316 [==============================] - 0s 62us/step - loss: 19.7602 - mae: 3.4783\n",
      "Epoch 18/20\n",
      "316/316 [==============================] - 0s 61us/step - loss: 18.5260 - mae: 3.4555\n",
      "Epoch 19/20\n",
      "316/316 [==============================] - 0s 65us/step - loss: 19.4620 - mae: 3.4493\n",
      "Epoch 20/20\n",
      "316/316 [==============================] - 0s 65us/step - loss: 18.6162 - mae: 3.3783\n"
     ]
    }
   ],
   "source": [
    "model_output = model.fit(X_train, y_train, batch_size=20, epochs=20)"
   ]
  },
  {
   "cell_type": "markdown",
   "metadata": {},
   "source": [
    "##### *3.1.3 predicting with test data*"
   ]
  },
  {
   "cell_type": "code",
   "execution_count": 268,
   "metadata": {},
   "outputs": [
    {
     "name": "stdout",
     "output_type": "stream",
     "text": [
      "79/79 [==============================] - 0s 934us/step\n",
      "test: mean squared error loss 15.240999076939836\n",
      "test: mean absolute error loss 3.09421443939209\n"
     ]
    }
   ],
   "source": [
    "predicted = model.evaluate(X_test, y_test)\n",
    "print(f\"test: mean squared error loss {predicted[0]}\")\n",
    "print(f\"test: mean absolute error loss {predicted[1]}\")"
   ]
  },
  {
   "cell_type": "markdown",
   "metadata": {},
   "source": [
    "#### *3.2 further experiments*\n",
    "The following experiments will help convince you that the architecture choices you’ve made are all fairly reasonable, although there’s still room for improvement:\n",
    "1. You used two hidden layers. Try using one or three hidden layers, and see how doing so affects validation and test accuracy.\n",
    "2. Try using layers with more hidden units or fewer hidden units: 32 units, 64 units, and so on.\n",
    "3. Try using the mae loss function instead of mse.\n",
    "4. Try using the tanh activation (an activation that was popular in the early days of\n",
    "neural networks) instead of relu."
   ]
  },
  {
   "cell_type": "markdown",
   "metadata": {},
   "source": [
    "##### *3.2.1 model using one hiddden layer*"
   ]
  },
  {
   "cell_type": "code",
   "execution_count": 269,
   "metadata": {},
   "outputs": [
    {
     "name": "stdout",
     "output_type": "stream",
     "text": [
      "Epoch 1/20\n",
      "316/316 [==============================] - 0s 876us/step - loss: 114.9323 - mae: 9.7166\n",
      "Epoch 2/20\n",
      "316/316 [==============================] - 0s 60us/step - loss: 106.8649 - mae: 9.4300\n",
      "Epoch 3/20\n",
      "316/316 [==============================] - 0s 59us/step - loss: 96.7718 - mae: 8.9687\n",
      "Epoch 4/20\n",
      "316/316 [==============================] - 0s 55us/step - loss: 87.5347 - mae: 8.4870\n",
      "Epoch 5/20\n",
      "316/316 [==============================] - 0s 86us/step - loss: 81.4040 - mae: 8.1444\n",
      "Epoch 6/20\n",
      "316/316 [==============================] - 0s 77us/step - loss: 74.4145 - mae: 7.7717\n",
      "Epoch 7/20\n",
      "316/316 [==============================] - 0s 59us/step - loss: 67.0496 - mae: 7.3437\n",
      "Epoch 8/20\n",
      "316/316 [==============================] - 0s 60us/step - loss: 60.9565 - mae: 6.9774\n",
      "Epoch 9/20\n",
      "316/316 [==============================] - 0s 54us/step - loss: 54.7326 - mae: 6.5678\n",
      "Epoch 10/20\n",
      "316/316 [==============================] - 0s 58us/step - loss: 47.6141 - mae: 6.0871\n",
      "Epoch 11/20\n",
      "316/316 [==============================] - 0s 55us/step - loss: 45.6499 - mae: 5.8310\n",
      "Epoch 12/20\n",
      "316/316 [==============================] - 0s 56us/step - loss: 42.7735 - mae: 5.6728\n",
      "Epoch 13/20\n",
      "316/316 [==============================] - 0s 57us/step - loss: 35.2782 - mae: 5.0216\n",
      "Epoch 14/20\n",
      "316/316 [==============================] - 0s 58us/step - loss: 33.4923 - mae: 4.8642\n",
      "Epoch 15/20\n",
      "316/316 [==============================] - 0s 57us/step - loss: 28.8793 - mae: 4.4988\n",
      "Epoch 16/20\n",
      "316/316 [==============================] - 0s 56us/step - loss: 28.3410 - mae: 4.4444\n",
      "Epoch 17/20\n",
      "316/316 [==============================] - 0s 60us/step - loss: 26.5100 - mae: 4.3034\n",
      "Epoch 18/20\n",
      "316/316 [==============================] - 0s 57us/step - loss: 24.3877 - mae: 4.0470\n",
      "Epoch 19/20\n",
      "316/316 [==============================] - 0s 56us/step - loss: 23.3842 - mae: 3.9314\n",
      "Epoch 20/20\n",
      "316/316 [==============================] - 0s 56us/step - loss: 23.1853 - mae: 3.9243\n"
     ]
    }
   ],
   "source": [
    "model_slim = models.Sequential()\n",
    "model_slim.add(layers.Dense(32, activation='relu', input_shape=(X_train.shape[1],)))\n",
    "model_slim.add(layers.Dropout(0.3, seed=random_seed)) # adding dropout layers to help with overfitting\n",
    "model_slim.add(layers.Dense(1)) # adding this layer because it is a regression problem\n",
    "\n",
    "\n",
    "model_slim.compile(optimizer='rmsprop', \n",
    "              loss='mse', \n",
    "              metrics=['mae'])\n",
    "\n",
    "model_slim_output = model_slim.fit(X_train, y_train, batch_size=20, epochs=20)"
   ]
  },
  {
   "cell_type": "code",
   "execution_count": 270,
   "metadata": {},
   "outputs": [
    {
     "name": "stdout",
     "output_type": "stream",
     "text": [
      "79/79 [==============================] - 0s 851us/step\n",
      "test: mean squared error loss 22.277899392043487\n",
      "test: mean absolute error loss 3.940617799758911\n"
     ]
    }
   ],
   "source": [
    "predicted_slim = model_slim.evaluate(X_test, y_test)\n",
    "print(f\"test: mean squared error loss {predicted_slim[0]}\")\n",
    "print(f\"test: mean absolute error loss {predicted_slim[1]}\")"
   ]
  },
  {
   "cell_type": "markdown",
   "metadata": {},
   "source": [
    "underfitting here, and not capturing the real values in the data."
   ]
  },
  {
   "cell_type": "markdown",
   "metadata": {},
   "source": [
    "##### *3.2.2 model using more hidden units*"
   ]
  },
  {
   "cell_type": "code",
   "execution_count": 271,
   "metadata": {},
   "outputs": [
    {
     "name": "stdout",
     "output_type": "stream",
     "text": [
      "Epoch 1/20\n",
      "316/316 [==============================] - 0s 1ms/step - loss: 57.5891 - mae: 6.4724\n",
      "Epoch 2/20\n",
      "316/316 [==============================] - 0s 244us/step - loss: 22.2892 - mae: 3.7171\n",
      "Epoch 3/20\n",
      "316/316 [==============================] - 0s 251us/step - loss: 17.6542 - mae: 3.2800\n",
      "Epoch 4/20\n",
      "316/316 [==============================] - 0s 260us/step - loss: 17.3445 - mae: 3.3105\n",
      "Epoch 5/20\n",
      "316/316 [==============================] - 0s 264us/step - loss: 16.1278 - mae: 3.1216\n",
      "Epoch 6/20\n",
      "316/316 [==============================] - 0s 261us/step - loss: 15.1920 - mae: 3.0420\n",
      "Epoch 7/20\n",
      "316/316 [==============================] - 0s 245us/step - loss: 14.4454 - mae: 3.0478\n",
      "Epoch 8/20\n",
      "316/316 [==============================] - 0s 234us/step - loss: 12.9277 - mae: 2.7721\n",
      "Epoch 9/20\n",
      "316/316 [==============================] - 0s 246us/step - loss: 12.9546 - mae: 2.7830\n",
      "Epoch 10/20\n",
      "316/316 [==============================] - 0s 241us/step - loss: 11.2297 - mae: 2.6013\n",
      "Epoch 11/20\n",
      "316/316 [==============================] - 0s 239us/step - loss: 12.4494 - mae: 2.7967\n",
      "Epoch 12/20\n",
      "316/316 [==============================] - 0s 239us/step - loss: 11.2532 - mae: 2.5223\n",
      "Epoch 13/20\n",
      "316/316 [==============================] - 0s 234us/step - loss: 9.3080 - mae: 2.4208\n",
      "Epoch 14/20\n",
      "316/316 [==============================] - 0s 236us/step - loss: 10.1783 - mae: 2.4969\n",
      "Epoch 15/20\n",
      "316/316 [==============================] - 0s 245us/step - loss: 10.4879 - mae: 2.5408\n",
      "Epoch 16/20\n",
      "316/316 [==============================] - 0s 235us/step - loss: 9.5909 - mae: 2.3872\n",
      "Epoch 17/20\n",
      "316/316 [==============================] - 0s 274us/step - loss: 9.8122 - mae: 2.3864\n",
      "Epoch 18/20\n",
      "316/316 [==============================] - 0s 247us/step - loss: 9.6088 - mae: 2.4541\n",
      "Epoch 19/20\n",
      "316/316 [==============================] - 0s 257us/step - loss: 8.8385 - mae: 2.3844\n",
      "Epoch 20/20\n",
      "316/316 [==============================] - 0s 259us/step - loss: 7.9328 - mae: 2.2292\n"
     ]
    }
   ],
   "source": [
    "model_fat = models.Sequential()\n",
    "model_fat.add(layers.Dense(256, activation='relu', input_shape=(X_train.shape[1],)))\n",
    "model_fat.add(layers.Dropout(0.3, seed=random_seed)) # adding dropout layers to help with overfitting\n",
    "model_fat.add(layers.Dense(128, activation='relu'))\n",
    "model_fat.add(layers.Dropout(0.3, seed=random_seed))\n",
    "model_fat.add(layers.Dense(1)) # adding this layer because it is a regression problem\n",
    "\n",
    "\n",
    "model_fat.compile(optimizer='rmsprop', \n",
    "              loss='mse', \n",
    "              metrics=['mae'])\n",
    "\n",
    "model_fat_output = model_fat.fit(X_train, y_train, batch_size=20, epochs=20)"
   ]
  },
  {
   "cell_type": "code",
   "execution_count": 272,
   "metadata": {},
   "outputs": [
    {
     "name": "stdout",
     "output_type": "stream",
     "text": [
      "79/79 [==============================] - 0s 1ms/step\n",
      "test: mean squared error loss 15.176022903828681\n",
      "test: mean absolute error loss 2.9776809215545654\n"
     ]
    }
   ],
   "source": [
    "predicted_fat = model_fat.evaluate(X_test, y_test)\n",
    "print(f\"test: mean squared error loss {predicted_fat[0]}\")\n",
    "print(f\"test: mean absolute error loss {predicted_fat[1]}\")"
   ]
  },
  {
   "cell_type": "markdown",
   "metadata": {},
   "source": [
    "model performs good here, better than the original geometry"
   ]
  },
  {
   "cell_type": "markdown",
   "metadata": {},
   "source": [
    "##### *3.2.3 model using mae loss*"
   ]
  },
  {
   "cell_type": "code",
   "execution_count": 273,
   "metadata": {},
   "outputs": [
    {
     "name": "stdout",
     "output_type": "stream",
     "text": [
      "Epoch 1/20\n",
      "316/316 [==============================] - 0s 1ms/step - loss: 10.0771 - mse: 122.1471\n",
      "Epoch 2/20\n",
      "316/316 [==============================] - 0s 72us/step - loss: 9.1377 - mse: 101.8730\n",
      "Epoch 3/20\n",
      "316/316 [==============================] - 0s 64us/step - loss: 8.2996 - mse: 85.0169\n",
      "Epoch 4/20\n",
      "316/316 [==============================] - 0s 72us/step - loss: 7.4872 - mse: 69.8086\n",
      "Epoch 5/20\n",
      "316/316 [==============================] - 0s 66us/step - loss: 6.3562 - mse: 53.3596\n",
      "Epoch 6/20\n",
      "316/316 [==============================] - 0s 67us/step - loss: 5.5196 - mse: 41.4658\n",
      "Epoch 7/20\n",
      "316/316 [==============================] - 0s 67us/step - loss: 5.0455 - mse: 34.3769\n",
      "Epoch 8/20\n",
      "316/316 [==============================] - 0s 61us/step - loss: 4.5097 - mse: 29.7655\n",
      "Epoch 9/20\n",
      "316/316 [==============================] - 0s 64us/step - loss: 4.2765 - mse: 27.2567\n",
      "Epoch 10/20\n",
      "316/316 [==============================] - 0s 61us/step - loss: 3.9621 - mse: 24.7270\n",
      "Epoch 11/20\n",
      "316/316 [==============================] - 0s 66us/step - loss: 3.8453 - mse: 24.1783\n",
      "Epoch 12/20\n",
      "316/316 [==============================] - 0s 62us/step - loss: 3.9050 - mse: 23.8684\n",
      "Epoch 13/20\n",
      "316/316 [==============================] - 0s 64us/step - loss: 3.6350 - mse: 21.7358\n",
      "Epoch 14/20\n",
      "316/316 [==============================] - 0s 63us/step - loss: 3.8395 - mse: 22.9980\n",
      "Epoch 15/20\n",
      "316/316 [==============================] - 0s 67us/step - loss: 3.5856 - mse: 21.3374\n",
      "Epoch 16/20\n",
      "316/316 [==============================] - 0s 62us/step - loss: 3.6338 - mse: 20.5292\n",
      "Epoch 17/20\n",
      "316/316 [==============================] - 0s 63us/step - loss: 3.5319 - mse: 20.0993\n",
      "Epoch 18/20\n",
      "316/316 [==============================] - 0s 66us/step - loss: 3.4101 - mse: 18.6605\n",
      "Epoch 19/20\n",
      "316/316 [==============================] - 0s 64us/step - loss: 3.4450 - mse: 20.0430\n",
      "Epoch 20/20\n",
      "316/316 [==============================] - 0s 62us/step - loss: 3.4815 - mse: 20.1830\n"
     ]
    }
   ],
   "source": [
    "model_mae = models.Sequential()\n",
    "model_mae.add(layers.Dense(32, activation='relu', input_shape=(X_train.shape[1],)))\n",
    "model_mae.add(layers.Dropout(0.3, seed=random_seed)) # adding dropout layers to help with overfitting\n",
    "model_mae.add(layers.Dense(16, activation='relu'))\n",
    "model_mae.add(layers.Dense(1)) # adding this layer because it is a regression problem\n",
    "\n",
    "\n",
    "model_mae.compile(optimizer='rmsprop', \n",
    "              loss='mae', \n",
    "              metrics=['mse'])\n",
    "\n",
    "model_mae_output = model_mae.fit(X_train, y_train, batch_size=20, epochs=20)"
   ]
  },
  {
   "cell_type": "code",
   "execution_count": 274,
   "metadata": {},
   "outputs": [
    {
     "name": "stdout",
     "output_type": "stream",
     "text": [
      "79/79 [==============================] - 0s 933us/step\n",
      "test: mean squared error loss 16.141311645507812\n",
      "test: mean absolute error loss 3.067770185349863\n"
     ]
    }
   ],
   "source": [
    "predicted_mae_model = model_mae.evaluate(X_test, y_test)\n",
    "print(f\"test: mean squared error loss {predicted_mae_model[1]}\")\n",
    "print(f\"test: mean absolute error loss {predicted_mae_model[0]}\")"
   ]
  },
  {
   "cell_type": "markdown",
   "metadata": {},
   "source": [
    "the model performs about the same in this case with a little bit better scores overall"
   ]
  },
  {
   "cell_type": "markdown",
   "metadata": {},
   "source": [
    "##### *3.2.4 model using tanh activation*"
   ]
  },
  {
   "cell_type": "code",
   "execution_count": 275,
   "metadata": {},
   "outputs": [
    {
     "name": "stdout",
     "output_type": "stream",
     "text": [
      "Epoch 1/20\n",
      "316/316 [==============================] - 0s 1ms/step - loss: 126.9281 - mae: 10.2410\n",
      "Epoch 2/20\n",
      "316/316 [==============================] - 0s 70us/step - loss: 122.7916 - mae: 10.0862\n",
      "Epoch 3/20\n",
      "316/316 [==============================] - 0s 66us/step - loss: 120.1034 - mae: 9.9677\n",
      "Epoch 4/20\n",
      "316/316 [==============================] - 0s 64us/step - loss: 115.7618 - mae: 9.7880\n",
      "Epoch 5/20\n",
      "316/316 [==============================] - 0s 70us/step - loss: 112.6738 - mae: 9.6679\n",
      "Epoch 6/20\n",
      "316/316 [==============================] - 0s 64us/step - loss: 107.7759 - mae: 9.4378\n",
      "Epoch 7/20\n",
      "316/316 [==============================] - 0s 65us/step - loss: 103.9476 - mae: 9.2530\n",
      "Epoch 8/20\n",
      "316/316 [==============================] - 0s 64us/step - loss: 97.5534 - mae: 8.9889\n",
      "Epoch 9/20\n",
      "316/316 [==============================] - 0s 65us/step - loss: 93.6230 - mae: 8.7832\n",
      "Epoch 10/20\n",
      "316/316 [==============================] - 0s 63us/step - loss: 88.3186 - mae: 8.4938\n",
      "Epoch 11/20\n",
      "316/316 [==============================] - 0s 63us/step - loss: 82.2173 - mae: 8.1885\n",
      "Epoch 12/20\n",
      "316/316 [==============================] - 0s 63us/step - loss: 77.5650 - mae: 7.9221\n",
      "Epoch 13/20\n",
      "316/316 [==============================] - 0s 67us/step - loss: 71.0205 - mae: 7.5801\n",
      "Epoch 14/20\n",
      "316/316 [==============================] - 0s 62us/step - loss: 67.1885 - mae: 7.2732\n",
      "Epoch 15/20\n",
      "316/316 [==============================] - 0s 64us/step - loss: 59.8460 - mae: 6.8081\n",
      "Epoch 16/20\n",
      "316/316 [==============================] - 0s 67us/step - loss: 54.1449 - mae: 6.4695\n",
      "Epoch 17/20\n",
      "316/316 [==============================] - 0s 64us/step - loss: 49.7382 - mae: 6.1439\n",
      "Epoch 18/20\n",
      "316/316 [==============================] - 0s 65us/step - loss: 44.5213 - mae: 5.7813\n",
      "Epoch 19/20\n",
      "316/316 [==============================] - 0s 64us/step - loss: 41.7015 - mae: 5.5089\n",
      "Epoch 20/20\n",
      "316/316 [==============================] - 0s 65us/step - loss: 36.0837 - mae: 5.1028\n"
     ]
    }
   ],
   "source": [
    "model_tanh = models.Sequential()\n",
    "model_tanh.add(layers.Dense(32, activation='tanh', input_shape=(X_train.shape[1],)))\n",
    "model_tanh.add(layers.Dropout(0.3, seed=random_seed)) # adding dropout layers to help with overfitting\n",
    "model_tanh.add(layers.Dense(16, activation='tanh'))\n",
    "model_tanh.add(layers.Dense(1)) # adding this layer because it is a regression problem\n",
    "\n",
    "\n",
    "model_tanh.compile(optimizer='rmsprop', \n",
    "              loss='mse', \n",
    "              metrics=['mae'])\n",
    "\n",
    "model_tanh_output = model_tanh.fit(X_train, y_train, batch_size=20, epochs=20)"
   ]
  },
  {
   "cell_type": "code",
   "execution_count": 276,
   "metadata": {},
   "outputs": [
    {
     "name": "stdout",
     "output_type": "stream",
     "text": [
      "79/79 [==============================] - 0s 923us/step\n",
      "test: mean squared error loss 44.83786131460455\n",
      "test: mean absolute error loss 5.621185779571533\n"
     ]
    }
   ],
   "source": [
    "predicted_tanh = model_tanh.evaluate(X_test, y_test)\n",
    "print(f\"test: mean squared error loss {predicted_tanh[0]}\")\n",
    "print(f\"test: mean absolute error loss {predicted_tanh[1]}\")"
   ]
  },
  {
   "cell_type": "markdown",
   "metadata": {},
   "source": [
    "lots more loss in a model that uses a tanh actuvation vs relu activation for this neural network geometry"
   ]
  },
  {
   "cell_type": "markdown",
   "metadata": {},
   "source": [
    "#### *3.3 k fold validation*"
   ]
  },
  {
   "cell_type": "markdown",
   "metadata": {},
   "source": [
    "the code here is taken out of the textbook for the regression examples"
   ]
  },
  {
   "cell_type": "markdown",
   "metadata": {},
   "source": [
    "##### *3.3.1 build model function definition*"
   ]
  },
  {
   "cell_type": "code",
   "execution_count": 277,
   "metadata": {},
   "outputs": [],
   "source": [
    "def build_model():\n",
    "    model = models.Sequential()\n",
    "    model.add(layers.Dense(32, activation='relu',\n",
    "                           input_shape=(X_train.shape[1],)))\n",
    "    model.add(layers.Dense(16, activation='relu'))\n",
    "    model.add(layers.Dense(1))\n",
    "    model.compile(optimizer='rmsprop', loss='mse', metrics=['mae'])\n",
    "    return model"
   ]
  },
  {
   "cell_type": "markdown",
   "metadata": {},
   "source": [
    "##### *3.3.2 defining k-fold variables*"
   ]
  },
  {
   "cell_type": "code",
   "execution_count": 278,
   "metadata": {},
   "outputs": [],
   "source": [
    "n_folds = 10\n",
    "num_epochs = 20\n",
    "num_val_samples = len(X_train) // n_folds\n",
    "all_mae_histories = []"
   ]
  },
  {
   "cell_type": "markdown",
   "metadata": {},
   "source": [
    "##### *3.3.3 k-fold loop*"
   ]
  },
  {
   "cell_type": "code",
   "execution_count": 279,
   "metadata": {},
   "outputs": [
    {
     "name": "stdout",
     "output_type": "stream",
     "text": [
      "processing fold # 0\n",
      "processing fold # 1\n",
      "processing fold # 2\n",
      "processing fold # 3\n",
      "processing fold # 4\n",
      "processing fold # 5\n",
      "processing fold # 6\n",
      "processing fold # 7\n",
      "processing fold # 8\n",
      "processing fold # 9\n"
     ]
    }
   ],
   "source": [
    "\n",
    "for i in range(n_folds):\n",
    "    print(\"processing fold #\", i)\n",
    "    val_data = X_train[i * num_val_samples : (i + 1) * num_val_samples]\n",
    "    val_targets = y_train[i * num_val_samples : (i + 1) * num_val_samples]\n",
    "    \n",
    "    partial_train_data = np.concatenate(\n",
    "        [X_train[:i * num_val_samples],\n",
    "         X_train[(i + 1) * num_val_samples:]],\n",
    "        axis = 0)\n",
    "    \n",
    "    partial_train_targets = np.concatenate(\n",
    "        [y_train[:i * num_val_samples],\n",
    "         y_train[(i + 1) * num_val_samples:]],\n",
    "        axis = 0)\n",
    "    \n",
    "    model = build_model()\n",
    "    history = model.fit(partial_train_data, partial_train_targets,\n",
    "        validation_data=(val_data, val_targets),\n",
    "        epochs=num_epochs, batch_size=1, verbose=0)\n",
    "    \n",
    "    mae_history = history.history['val_mae']\n",
    "    all_mae_histories.append(mae_history)\n",
    "    "
   ]
  },
  {
   "cell_type": "markdown",
   "metadata": {},
   "source": [
    "##### *3.3.4 plotting k-fold results*"
   ]
  },
  {
   "cell_type": "code",
   "execution_count": 280,
   "metadata": {},
   "outputs": [],
   "source": [
    "average_mae_history = [\n",
    "    np.mean([x[i] for x in all_mae_histories]) for i in range(num_epochs)]"
   ]
  },
  {
   "cell_type": "code",
   "execution_count": 281,
   "metadata": {},
   "outputs": [
    {
     "data": {
      "image/png": "[encoded data removed]",
      "text/plain": [
       "<Figure size 432x288 with 1 Axes>"
      ]
     },
     "metadata": {
      "needs_background": "light"
     },
     "output_type": "display_data"
    }
   ],
   "source": [
    "import matplotlib.pyplot as plt\n",
    "plt.plot(range(1, len(average_mae_history) + 1), average_mae_history)\n",
    "plt.xlabel('Epochs')\n",
    "plt.ylabel('Validation MAE')\n",
    "plt.show()"
   ]
  },
  {
   "cell_type": "markdown",
   "metadata": {},
   "source": [
    "looks like validation mean absolute error is minimized at around 10 epochs or so"
   ]
  },
  {
   "cell_type": "code",
   "execution_count": 282,
   "metadata": {},
   "outputs": [
    {
     "data": {
      "image/png": "[encoded data removed]",
      "text/plain": [
       "<Figure size 432x288 with 1 Axes>"
      ]
     },
     "metadata": {
      "needs_background": "light"
     },
     "output_type": "display_data"
    }
   ],
   "source": [
    "def smooth_curve(points, factor=0.9):\n",
    "  smoothed_points = []\n",
    "  for point in points:\n",
    "    if smoothed_points:\n",
    "      previous = smoothed_points[-1]\n",
    "      smoothed_points.append(previous * factor + point * (1 - factor))\n",
    "    else:\n",
    "      smoothed_points.append(point)\n",
    "  return smoothed_points\n",
    "smooth_mae_history = smooth_curve(average_mae_history[10:])\n",
    "plt.plot(range(1, len(smooth_mae_history) + 1), smooth_mae_history)\n",
    "plt.xlabel('Epochs')\n",
    "plt.ylabel('Validation MAE')\n",
    "plt.show()"
   ]
  },
  {
   "cell_type": "markdown",
   "metadata": {},
   "source": [
    "this shows the average validation score vs number of epochs. it goes up over the epochs, but is not that different in absolute terms."
   ]
  },
  {
   "cell_type": "markdown",
   "metadata": {},
   "source": [
    "##### *3.3.5 building model from validation*"
   ]
  },
  {
   "cell_type": "code",
   "execution_count": 283,
   "metadata": {},
   "outputs": [
    {
     "name": "stdout",
     "output_type": "stream",
     "text": [
      "Epoch 1/10\n",
      "316/316 [==============================] - 0s 852us/step - loss: 123.0432 - mae: 10.0735\n",
      "Epoch 2/10\n",
      "316/316 [==============================] - 0s 62us/step - loss: 109.4362 - mae: 9.5152\n",
      "Epoch 3/10\n",
      "316/316 [==============================] - 0s 53us/step - loss: 96.4149 - mae: 8.9209\n",
      "Epoch 4/10\n",
      "316/316 [==============================] - 0s 58us/step - loss: 82.2523 - mae: 8.2291\n",
      "Epoch 5/10\n",
      "316/316 [==============================] - 0s 59us/step - loss: 67.8744 - mae: 7.4199\n",
      "Epoch 6/10\n",
      "316/316 [==============================] - 0s 57us/step - loss: 53.8478 - mae: 6.5491\n",
      "Epoch 7/10\n",
      "316/316 [==============================] - 0s 54us/step - loss: 41.5124 - mae: 5.6553\n",
      "Epoch 8/10\n",
      "316/316 [==============================] - 0s 55us/step - loss: 31.3870 - mae: 4.8664\n",
      "Epoch 9/10\n",
      "316/316 [==============================] - 0s 54us/step - loss: 24.1829 - mae: 4.1737\n",
      "Epoch 10/10\n",
      "316/316 [==============================] - 0s 52us/step - loss: 20.1880 - mae: 3.7080\n",
      "79/79 [==============================] - 0s 666us/step\n",
      "testing mean absolute error 3.905726909637451\n"
     ]
    }
   ],
   "source": [
    "model = build_model()\n",
    "model.fit(X_train, y_train,\n",
    "          epochs = 10, batch_size = 20)\n",
    "\n",
    "test_mse_score, test_mae_score = model.evaluate(X_test, y_test)\n",
    "print(f\"testing mean absolute error {test_mae_score}\")"
   ]
  },
  {
   "cell_type": "markdown",
   "metadata": {},
   "source": [
    "the mean absolute error for the testing error is 3.3 grade units out of 20. this model does pretty well and is not far off from the training data. 3.26 mae in training and 3.3 in testing. epochs of 10 are a good way to normalize it for this network geometry."
   ]
  }
 ],
 "metadata": {
  "interpreter": {
   "hash": "b0fa6594d8f4cbf19f97940f81e996739fb7646882a419484c72d19e05852a7e"
  },
  "kernelspec": {
   "display_name": "Python 3",
   "language": "python",
   "name": "python3"
  },
  "language_info": {
   "codemirror_mode": {
    "name": "ipython",
    "version": 3
   },
   "file_extension": ".py",
   "mimetype": "text/x-python",
   "name": "python",
   "nbconvert_exporter": "python",
   "pygments_lexer": "ipython3",
   "version": "3.7.11"
  }
 },
 "nbformat": 4,
 "nbformat_minor": 4
}
